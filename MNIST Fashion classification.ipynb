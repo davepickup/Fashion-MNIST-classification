{
 "cells": [
  {
   "cell_type": "markdown",
   "metadata": {},
   "source": [
    "## MNIST FASHION DATASET"
   ]
  },
  {
   "cell_type": "markdown",
   "metadata": {},
   "source": [
    "This is a subset of the MNIST Fashion dataset of Zalando's article images. In this dataset each example is a 28×28 grayscale image, along with an associated label from 4 classes:\n",
    "\n",
    "0 => Sneaker\n",
    "1 => Boot\n",
    "2 => Shirt\n",
    "3 => T-Shirt\n",
    "\n",
    "Each image is 28 pixels in height and 28 pixels in width. Each pixel has a single pixel-value associated with it, indicating the lightness or darkness of that pixel, with higher numbers meaning darker. This pixel-value is an integer between 0 and 255.\n",
    "\n",
    "The goal of this project is to build a model that can accurately classify new images into one of the 4 classes. We will employ Convolutional Neural Networks (CNNs) using Keras and a Tensflow backend.  "
   ]
  },
  {
   "cell_type": "code",
   "execution_count": 16,
   "metadata": {},
   "outputs": [],
   "source": [
    "# import libraries\n",
    "\n",
    "import numpy as np\n",
    "import pandas as pd\n",
    "import matplotlib.pyplot as plt\n",
    "%matplotlib inline\n",
    "import seaborn as sns\n",
    "\n",
    "# import Keras dependencies\n",
    "\n",
    "from keras.models import Sequential\n",
    "\n",
    "from keras.layers.core import Flatten, Dense, Dropout\n",
    "from keras.layers.convolutional import Conv2D, MaxPooling2D\n",
    "from keras.layers.convolutional import ZeroPadding2D\n",
    "\n",
    "from keras.optimizers import SGD, RMSprop, Adam\n",
    "from keras.preprocessing.image import ImageDataGenerator\n",
    "from keras.callbacks import ReduceLROnPlateau\n",
    "from keras.utils import np_utils\n",
    "\n",
    "from sklearn.model_selection import train_test_split"
   ]
  },
  {
   "cell_type": "code",
   "execution_count": 3,
   "metadata": {},
   "outputs": [],
   "source": [
    "# load in the training data and a small test set\n",
    "X_train = np.load(\"data/X_train.npy\")\n",
    "y_train = np.load(\"data/y_train.npy\")\n",
    "X_test = np.load(\"data/X_test.npy\")"
   ]
  },
  {
   "cell_type": "code",
   "execution_count": 5,
   "metadata": {},
   "outputs": [
    {
     "data": {
      "text/plain": [
       "(20000, 28, 28)"
      ]
     },
     "execution_count": 5,
     "metadata": {},
     "output_type": "execute_result"
    }
   ],
   "source": [
    "# There are 20,000 training examples each 28x28 pixels\n",
    "X_train.shape"
   ]
  },
  {
   "cell_type": "code",
   "execution_count": 8,
   "metadata": {},
   "outputs": [
    {
     "data": {
      "text/plain": [
       "(20000,)"
      ]
     },
     "execution_count": 8,
     "metadata": {},
     "output_type": "execute_result"
    }
   ],
   "source": [
    "# The labels for the training examples\n",
    "y_train.shape"
   ]
  },
  {
   "cell_type": "code",
   "execution_count": 11,
   "metadata": {},
   "outputs": [
    {
     "name": "stdout",
     "output_type": "stream",
     "text": [
      "{0.0: 5000, 1.0: 5000, 2.0: 5000, 3.0: 5000}\n"
     ]
    },
    {
     "data": {
      "text/plain": [
       "<BarContainer object of 4 artists>"
      ]
     },
     "execution_count": 11,
     "metadata": {},
     "output_type": "execute_result"
    },
    {
     "data": {
      "image/png": "[encoded data removed]",
      "text/plain": [
       "<Figure size 432x288 with 1 Axes>"
      ]
     },
     "metadata": {
      "needs_background": "light"
     },
     "output_type": "display_data"
    }
   ],
   "source": [
    "# check the class distribution in the training data\n",
    "label, counts = np.unique(y_train, return_counts=True)\n",
    "print(dict(zip(label, counts)))\n",
    "plt.bar(label, counts)"
   ]
  },
  {
   "cell_type": "code",
   "execution_count": 12,
   "metadata": {},
   "outputs": [
    {
     "data": {
      "text/plain": [
       "array([[  0.,   0.,   0.,   0.,   0.,   0.,   0.,   0.,   0.,   0.,   0.,\n",
       "          0.,   0.,   0.,   0.,   0.,   0.,   0.,   0.,   0.,   0.,   0.,\n",
       "          0.,   0.,   0.,   0.,   0.,   0.],\n",
       "       [  0.,   0.,   0.,   0.,   0.,   0.,   0.,   0.,   0.,   0.,   0.,\n",
       "          0.,   0.,   0.,   0.,   0.,   0.,   0.,   0.,   0.,   0.,   0.,\n",
       "          0.,   0.,   0.,   0.,   0.,   0.],\n",
       "       [  0.,   0.,   0.,   0.,   0.,   0.,   0.,   0.,   0.,   0.,   0.,\n",
       "          0.,   0.,   0.,   0.,   0.,   0.,   0.,   0.,   0.,   0.,   0.,\n",
       "          0.,   0.,   0.,   0.,   0.,   0.],\n",
       "       [  0.,   0.,   0.,   0.,   0.,   0.,   0.,   0.,   0.,   0.,   0.,\n",
       "          0.,   0.,   0.,   0.,   0.,   0.,   0.,   0.,   0.,   0.,   0.,\n",
       "          0.,   0.,   0.,   0.,   0.,   0.],\n",
       "       [  0.,   0.,   0.,   0.,   0.,   0.,   0.,   0.,   0.,   0.,   0.,\n",
       "          0.,   0.,   0.,   0.,   0.,   0.,   0.,   0.,   0.,   0.,   0.,\n",
       "          0.,   0.,   0.,   0.,   0.,   0.],\n",
       "       [  0.,   0.,   0.,   0.,   0.,   0.,   0.,   0.,   0.,   0.,   0.,\n",
       "          0.,   0.,   0.,   0.,   0.,   0.,   0.,   0.,   0.,   0.,   0.,\n",
       "          0.,   0.,   0.,   0.,   0.,   0.],\n",
       "       [  0.,   0.,   0.,   0.,   0.,   0.,   0.,   0.,   0.,   0.,   0.,\n",
       "          0.,   0.,   0.,   0.,   0.,   0.,   0.,   0.,   0.,   0.,   0.,\n",
       "          0.,   0.,   0.,   0.,   0.,   0.],\n",
       "       [  0.,   0.,   0.,   0.,   0.,   0.,   0.,   0.,   0.,   0.,   1.,\n",
       "          0.,   0.,   0.,   0.,   0.,  67., 147.,   6.,   0.,   1.,   1.,\n",
       "          0.,   0.,   2.,   6.,   2.,   0.],\n",
       "       [  0.,   0.,   0.,   0.,   0.,   0.,   0.,   0.,   0.,   0.,   1.,\n",
       "          0.,   0.,  15.,   4.,  66., 196., 195., 163.,   0.,   0.,   0.,\n",
       "          0.,   1.,   0.,   0.,   0.,   0.],\n",
       "       [  0.,   0.,   0.,   0.,   0.,   0.,   0.,   0.,   0.,   1.,   0.,\n",
       "          0.,  72., 193., 165., 189., 165., 153., 175.,   0.,   0.,   3.,\n",
       "          0.,   0.,  12., 135.,  33.,   0.],\n",
       "       [  0.,   0.,   0.,   0.,   0.,   0.,   0.,   0.,   0.,   0.,   0.,\n",
       "          0., 156., 196., 163., 171., 199., 202., 192.,  54.,   0.,   0.,\n",
       "          0.,   2., 124., 249., 131.,   0.],\n",
       "       [  0.,   0.,   0.,   0.,   0.,   0.,   0.,   0.,   0.,   5.,  39.,\n",
       "         65., 161., 147., 168., 168., 187., 187., 209., 236., 121.,  25.,\n",
       "          2.,  81., 186., 243., 110.,   0.],\n",
       "       [  2.,   0.,   0.,   0.,   3.,   4.,   0.,   0.,  54., 180., 167.,\n",
       "        177., 199., 230., 255., 221., 174., 194., 194., 200., 212., 222.,\n",
       "        221., 239., 209., 240., 209.,   0.],\n",
       "       [  1.,   1.,   6.,   1.,   0.,   0.,   0.,  98., 194., 175., 171.,\n",
       "        161., 170., 154., 152., 209., 219., 216., 226., 238., 236., 229.,\n",
       "        203., 135.,  45.,   0., 240.,   0.],\n",
       "       [  0.,   0.,   0.,   0.,   0.,  41., 137., 188., 180., 217., 220.,\n",
       "        211., 211., 229., 244., 245., 213., 173., 112.,  53.,   0.,   0.,\n",
       "          0.,   0.,  17.,  65., 233.,  10.],\n",
       "       [  0.,   0.,  73., 126., 175., 197., 187., 163., 174., 182., 205.,\n",
       "        223., 174.,  96.,  53.,   1.,   0.,   0.,   0.,   0.,  34., 120.,\n",
       "        189., 232., 246., 207., 253.,   7.],\n",
       "       [  0., 119., 154., 169., 170., 168., 175., 204., 198., 214., 169.,\n",
       "          6.,   0.,   0.,   0.,   0.,   0.,  72., 195., 239., 234., 226.,\n",
       "        192., 179., 165., 143., 163.,   5.],\n",
       "       [ 10.,  78.,  83., 105., 117., 121., 119., 118., 137., 146.,  42.,\n",
       "         18.,  54.,  75.,  70.,  53.,  64., 164., 146., 100.,  96.,  98.,\n",
       "        101., 101.,  96.,  79.,  80.,   3.],\n",
       "       [  6.,   0.,   4.,   5.,  12.,  21.,  44.,  59.,  57.,  54.,  91.,\n",
       "        104.,  98., 100.,  97., 102., 100.,  67.,  64.,  63.,  57.,  54.,\n",
       "         43.,  33.,  24.,   7.,   3.,   0.],\n",
       "       [ 13.,  38.,  34.,  38.,  28.,  27.,  13.,   8.,   7.,  17.,  12.,\n",
       "          8.,  12.,   7.,  16.,  15.,  13.,  21.,  20.,  19.,  19.,  20.,\n",
       "         22.,  19.,  24.,  22.,  26.,   1.],\n",
       "       [  0.,   0.,  12.,   8.,  20.,  30.,  31.,  36.,  37.,  37.,  36.,\n",
       "         38.,  37.,  36.,  36.,  35.,  39.,  33.,  35.,  35.,  28.,  29.,\n",
       "         20.,  16.,  15.,  15.,   8.,   0.],\n",
       "       [  0.,   0.,   0.,   0.,   0.,   0.,   0.,   0.,   0.,   0.,   0.,\n",
       "          0.,   0.,   0.,   0.,   0.,   0.,   0.,   0.,   0.,   0.,   0.,\n",
       "          0.,   0.,   0.,   0.,   0.,   0.],\n",
       "       [  0.,   0.,   0.,   0.,   0.,   0.,   0.,   0.,   0.,   0.,   0.,\n",
       "          0.,   0.,   0.,   0.,   0.,   0.,   0.,   0.,   0.,   0.,   0.,\n",
       "          0.,   0.,   0.,   0.,   0.,   0.],\n",
       "       [  0.,   0.,   0.,   0.,   0.,   0.,   0.,   0.,   0.,   0.,   0.,\n",
       "          0.,   0.,   0.,   0.,   0.,   0.,   0.,   0.,   0.,   0.,   0.,\n",
       "          0.,   0.,   0.,   0.,   0.,   0.],\n",
       "       [  0.,   0.,   0.,   0.,   0.,   0.,   0.,   0.,   0.,   0.,   0.,\n",
       "          0.,   0.,   0.,   0.,   0.,   0.,   0.,   0.,   0.,   0.,   0.,\n",
       "          0.,   0.,   0.,   0.,   0.,   0.],\n",
       "       [  0.,   0.,   0.,   0.,   0.,   0.,   0.,   0.,   0.,   0.,   0.,\n",
       "          0.,   0.,   0.,   0.,   0.,   0.,   0.,   0.,   0.,   0.,   0.,\n",
       "          0.,   0.,   0.,   0.,   0.,   0.],\n",
       "       [  0.,   0.,   0.,   0.,   0.,   0.,   0.,   0.,   0.,   0.,   0.,\n",
       "          0.,   0.,   0.,   0.,   0.,   0.,   0.,   0.,   0.,   0.,   0.,\n",
       "          0.,   0.,   0.,   0.,   0.,   0.],\n",
       "       [  0.,   0.,   0.,   0.,   0.,   0.,   0.,   0.,   0.,   0.,   0.,\n",
       "          0.,   0.,   0.,   0.,   0.,   0.,   0.,   0.,   0.,   0.,   0.,\n",
       "          0.,   0.,   0.,   0.,   0.,   0.]])"
      ]
     },
     "execution_count": 12,
     "metadata": {},
     "output_type": "execute_result"
    }
   ],
   "source": [
    "# Let's look at the array for an image\n",
    "X_train[0]"
   ]
  },
  {
   "cell_type": "code",
   "execution_count": 7,
   "metadata": {
    "scrolled": true
   },
   "outputs": [
    {
     "data": {
      "image/png": "[encoded data removed]",
      "text/plain": [
       "<Figure size 864x864 with 25 Axes>"
      ]
     },
     "metadata": {
      "needs_background": "light"
     },
     "output_type": "display_data"
    }
   ],
   "source": [
    "# We can plot a few images\n",
    "\n",
    "fig, axes = plt.subplots(5, 5, figsize = (12,12))\n",
    "\n",
    "axes = axes.ravel()\n",
    "\n",
    "for i in np.arange(0, 25):\n",
    "\n",
    "    # Select random indices from the training set\n",
    "    index = np.random.randint(0, len(X_train))\n",
    "    # read and display an image with the selected index    \n",
    "    axes[i].imshow( X_train[index,1:])\n",
    "    axes[i].set_title(y_train[index], fontsize = 8)\n",
    "    axes[i].axis('off')\n",
    "\n",
    "plt.subplots_adjust(hspace=0.4)"
   ]
  },
  {
   "cell_type": "markdown",
   "metadata": {},
   "source": [
    "Lets prepare our data for the model. We are going to be using Convolutional Neural Networks, which are considered the model of choice for image processing. We will use Keras which is a deep learning library written in Python and capable of running on top of TensorFLow, CNTK or Theano. We will be using a TensorFlow backend.\n",
    "\n",
    "First we need to normalize the training data by dividing by 255, and then we reshape the image data as shown below.\n",
    "\n",
    "The label data is transformed into a sparse matrix where each row has one 1 at the label position\n",
    "\n",
    "Here we use the Sequential API, where you  add one layer at a time, starting from the input.\n",
    "\n",
    "THe convolutional layers pass filters across the input of each layer to look for important features in the data. The neural network learns the best filters for the problem. \n",
    "Here we use 32 filters for the two firsts conv2D layers and 64 filters for the third and fourth. Each filter transforms a part of the image (defined by the kernel size) using the kernel filter. Filters can be seen as a transformation of the image.\n",
    "\n",
    "The CNN can isolate features that are useful everywhere from these transformed images (feature maps).\n",
    "\n",
    "The pooling layer (MaxPooling2D) acts as a downsampling filter. It looks at the 2 neighboring pixels and picks the maximal value. These are used to reduce computational cost, and to some extent also reduce overfitting. We have to choose the pooling size (i.e the area size pooled each time).\n",
    "\n",
    "Combining convolutional and pooling layers, CNN are able to combine local features and learn more global features of the image.\n",
    "\n",
    "Dropout is a regularization method, where a proportion of nodes in the layer are randomly ignored (setting their wieghts to zero) for each sample. This drops randomly a propotion of the network and forces the network to learn features in a distributed way. This technique also improves generalization and reduces the overfitting.\n",
    "\n",
    "'relu' is the rectifier (activation function max(0,x). The rectifier activation function is used to add non linearity to the network.\n",
    "\n",
    "The Flatten layer is use to convert the final feature maps into a one single 1D vector. This flattening step is needed so that you can make use of fully connected layers after some convolutional/maxpool layers. It combines all the found local features of the previous convolutional layers.\n",
    "\n",
    "Two fully-connected (Dense) layers are used which is just and artificial neural network (ANN) classifier. In the last layer the net outputs distribution of probability of each of the 4 classes."
   ]
  },
  {
   "cell_type": "code",
   "execution_count": 13,
   "metadata": {},
   "outputs": [],
   "source": [
    "X_train = X_train.astype('float32')\n",
    "X_test = X_test.astype('float32')\n",
    "X_train /= 255\n",
    "X_test /= 255"
   ]
  },
  {
   "cell_type": "code",
   "execution_count": 14,
   "metadata": {},
   "outputs": [
    {
     "data": {
      "text/plain": [
       "(20000, 28, 28, 1)"
      ]
     },
     "execution_count": 14,
     "metadata": {},
     "output_type": "execute_result"
    }
   ],
   "source": [
    "X_train = X_train.reshape(X_train.shape[0], X_train.shape[1], X_train.shape[2], 1)\n",
    "X_train.shape"
   ]
  },
  {
   "cell_type": "code",
   "execution_count": 15,
   "metadata": {},
   "outputs": [],
   "source": [
    "num_classes = 4\n",
    "y_train = np_utils.to_categorical(y_train, num_classes)"
   ]
  },
  {
   "cell_type": "code",
   "execution_count": 17,
   "metadata": {},
   "outputs": [],
   "source": [
    "X_train, X_val, y_train, y_val = train_test_split(X_train, y_train, test_size=0.1, random_state=42)"
   ]
  },
  {
   "cell_type": "code",
   "execution_count": 18,
   "metadata": {},
   "outputs": [
    {
     "name": "stdout",
     "output_type": "stream",
     "text": [
      "WARNING:tensorflow:From C:\\Users\\david\\Miniconda3\\envs\\ads08\\lib\\site-packages\\tensorflow\\python\\framework\\op_def_library.py:263: colocate_with (from tensorflow.python.framework.ops) is deprecated and will be removed in a future version.\n",
      "Instructions for updating:\n",
      "Colocations handled automatically by placer.\n",
      "WARNING:tensorflow:From C:\\Users\\david\\Miniconda3\\envs\\ads08\\lib\\site-packages\\keras\\backend\\tensorflow_backend.py:3445: calling dropout (from tensorflow.python.ops.nn_ops) with keep_prob is deprecated and will be removed in a future version.\n",
      "Instructions for updating:\n",
      "Please use `rate` instead of `keep_prob`. Rate should be set to `rate = 1 - keep_prob`.\n"
     ]
    }
   ],
   "source": [
    "cnn_model = Sequential()\n",
    "\n",
    "# Try 32 fliters first then 64\n",
    "cnn_model.add(Conv2D(32,(5, 5), input_shape = (28,28,1), activation='relu'))\n",
    "cnn_model.add(Conv2D(32,(5, 5), activation='relu'))\n",
    "cnn_model.add(MaxPooling2D(pool_size = (2, 2)))\n",
    "\n",
    "cnn_model.add(Dropout(0.25))\n",
    "\n",
    "cnn_model.add(Conv2D(64,(3, 3), activation='relu'))\n",
    "cnn_model.add(Conv2D(64,(3, 3), activation='relu'))\n",
    "cnn_model.add(MaxPooling2D(pool_size = (2, 2)))\n",
    "\n",
    "cnn_model.add(Dropout(0.25))\n",
    "\n",
    "cnn_model.add(Flatten())\n",
    "cnn_model.add(Dense(activation = 'relu', units=32))\n",
    "cnn_model.add(Dense(activation = 'softmax', units=4))"
   ]
  },
  {
   "cell_type": "code",
   "execution_count": 19,
   "metadata": {},
   "outputs": [
    {
     "name": "stdout",
     "output_type": "stream",
     "text": [
      "_________________________________________________________________\n",
      "Layer (type)                 Output Shape              Param #   \n",
      "=================================================================\n",
      "conv2d_1 (Conv2D)            (None, 24, 24, 32)        832       \n",
      "_________________________________________________________________\n",
      "conv2d_2 (Conv2D)            (None, 20, 20, 32)        25632     \n",
      "_________________________________________________________________\n",
      "max_pooling2d_1 (MaxPooling2 (None, 10, 10, 32)        0         \n",
      "_________________________________________________________________\n",
      "dropout_1 (Dropout)          (None, 10, 10, 32)        0         \n",
      "_________________________________________________________________\n",
      "conv2d_3 (Conv2D)            (None, 8, 8, 64)          18496     \n",
      "_________________________________________________________________\n",
      "conv2d_4 (Conv2D)            (None, 6, 6, 64)          36928     \n",
      "_________________________________________________________________\n",
      "max_pooling2d_2 (MaxPooling2 (None, 3, 3, 64)          0         \n",
      "_________________________________________________________________\n",
      "dropout_2 (Dropout)          (None, 3, 3, 64)          0         \n",
      "_________________________________________________________________\n",
      "flatten_1 (Flatten)          (None, 576)               0         \n",
      "_________________________________________________________________\n",
      "dense_1 (Dense)              (None, 32)                18464     \n",
      "_________________________________________________________________\n",
      "dense_2 (Dense)              (None, 4)                 132       \n",
      "=================================================================\n",
      "Total params: 100,484\n",
      "Trainable params: 100,484\n",
      "Non-trainable params: 0\n",
      "_________________________________________________________________\n"
     ]
    }
   ],
   "source": [
    "# We can take a look at the structure of the Neural Network and the number of parameters\n",
    "cnn_model.summary()"
   ]
  },
  {
   "cell_type": "markdown",
   "metadata": {},
   "source": [
    "In this CNN we use categorical cross-entropy as the loss function (typical for multiclass classification) and an Adam optimizer\n",
    "\n",
    "The Adam optimization algorithm is an extension to stochastic gradient descent (SGD). It combines the advantages of two other extensions of SGD, namely AdaGrad and RMSProp.\n",
    "\n",
    "Specifically, the algorithm calculates an exponential moving average of the gradient and the squared gradient."
   ]
  },
  {
   "cell_type": "code",
   "execution_count": 23,
   "metadata": {},
   "outputs": [],
   "source": [
    "cnn_model.compile(loss ='categorical_crossentropy', optimizer=Adam(lr=0.001),metrics =['accuracy'])"
   ]
  },
  {
   "cell_type": "markdown",
   "metadata": {},
   "source": [
    "Better results are often achieved using annealing methods to gradually decrease the learning rate (LR) during training. \n",
    "\n",
    "The LR is the step by which the optimizer walks through the 'loss landscape'. The higher LR, the bigger are the steps and the quicker is the convergence. However the sampling is very poor with an high LR and the optimizer could probably fall into a local minima.\n",
    "\n",
    "A decreasing learning rate during training can help to efficiently reach the global minimum of the loss function.\n",
    "\n",
    "Using the ReduceLROnPlateau function you can reduce the LR dynamically during training. Here we set it halve if the accuracy on the validation set isn't improved after 3 epochs."
   ]
  },
  {
   "cell_type": "code",
   "execution_count": 24,
   "metadata": {},
   "outputs": [],
   "source": [
    "learning_rate_reduction = ReduceLROnPlateau(monitor='val_acc', \n",
    "                                            patience=3, \n",
    "                                            verbose=1, \n",
    "                                            factor=0.5, \n",
    "                                            min_lr=0.00001)"
   ]
  },
  {
   "cell_type": "markdown",
   "metadata": {},
   "source": [
    "Below we train the model using a batch size of 64. This depends how much memory you have on your computer. With more memory you can increase the batch size which will speed up training."
   ]
  },
  {
   "cell_type": "code",
   "execution_count": 25,
   "metadata": {},
   "outputs": [
    {
     "name": "stdout",
     "output_type": "stream",
     "text": [
      "WARNING:tensorflow:From C:\\Users\\david\\Miniconda3\\envs\\ads08\\lib\\site-packages\\tensorflow\\python\\ops\\math_ops.py:3066: to_int32 (from tensorflow.python.ops.math_ops) is deprecated and will be removed in a future version.\n",
      "Instructions for updating:\n",
      "Use tf.cast instead.\n",
      "Train on 18000 samples, validate on 2000 samples\n",
      "Epoch 1/50\n",
      " - 94s - loss: 0.3742 - acc: 0.8463 - val_loss: 0.2972 - val_acc: 0.8740\n",
      "Epoch 2/50\n",
      " - 89s - loss: 0.2695 - acc: 0.8820 - val_loss: 0.2269 - val_acc: 0.9140\n",
      "Epoch 3/50\n",
      " - 91s - loss: 0.2469 - acc: 0.8932 - val_loss: 0.2091 - val_acc: 0.9035\n",
      "Epoch 4/50\n",
      " - 87s - loss: 0.2258 - acc: 0.9034 - val_loss: 0.1966 - val_acc: 0.9140\n",
      "Epoch 5/50\n",
      " - 87s - loss: 0.2112 - acc: 0.9072 - val_loss: 0.1864 - val_acc: 0.9190\n",
      "Epoch 6/50\n",
      " - 87s - loss: 0.2051 - acc: 0.9099 - val_loss: 0.1848 - val_acc: 0.9250\n",
      "Epoch 7/50\n",
      " - 89s - loss: 0.1996 - acc: 0.9119 - val_loss: 0.1802 - val_acc: 0.9260\n",
      "Epoch 8/50\n",
      " - 88s - loss: 0.1899 - acc: 0.9154 - val_loss: 0.1743 - val_acc: 0.9285\n",
      "Epoch 9/50\n",
      " - 88s - loss: 0.1834 - acc: 0.9204 - val_loss: 0.1637 - val_acc: 0.9310\n",
      "Epoch 10/50\n",
      " - 88s - loss: 0.1792 - acc: 0.9221 - val_loss: 0.1668 - val_acc: 0.9260\n",
      "Epoch 11/50\n",
      " - 88s - loss: 0.1700 - acc: 0.9263 - val_loss: 0.1643 - val_acc: 0.9330\n",
      "Epoch 12/50\n",
      " - 88s - loss: 0.1628 - acc: 0.9297 - val_loss: 0.1510 - val_acc: 0.9380\n",
      "Epoch 13/50\n",
      " - 87s - loss: 0.1621 - acc: 0.9283 - val_loss: 0.1543 - val_acc: 0.9340\n",
      "Epoch 14/50\n",
      " - 87s - loss: 0.1572 - acc: 0.9319 - val_loss: 0.1528 - val_acc: 0.9355\n",
      "Epoch 15/50\n",
      " - 87s - loss: 0.1523 - acc: 0.9325 - val_loss: 0.1464 - val_acc: 0.9430\n",
      "Epoch 16/50\n",
      " - 82s - loss: 0.1498 - acc: 0.9342 - val_loss: 0.1484 - val_acc: 0.9390\n",
      "Epoch 17/50\n",
      " - 75s - loss: 0.1430 - acc: 0.9408 - val_loss: 0.1489 - val_acc: 0.9380\n",
      "Epoch 18/50\n",
      " - 79s - loss: 0.1384 - acc: 0.9406 - val_loss: 0.1543 - val_acc: 0.9395\n",
      "\n",
      "Epoch 00018: ReduceLROnPlateau reducing learning rate to 0.0005000000237487257.\n",
      "Epoch 19/50\n",
      " - 79s - loss: 0.1193 - acc: 0.9493 - val_loss: 0.1360 - val_acc: 0.9435\n",
      "Epoch 20/50\n",
      " - 78s - loss: 0.1158 - acc: 0.9507 - val_loss: 0.1426 - val_acc: 0.9455\n",
      "Epoch 21/50\n",
      " - 79s - loss: 0.1082 - acc: 0.9546 - val_loss: 0.1317 - val_acc: 0.9465\n",
      "Epoch 22/50\n",
      " - 80s - loss: 0.1076 - acc: 0.9553 - val_loss: 0.1366 - val_acc: 0.9440\n",
      "Epoch 23/50\n",
      " - 79s - loss: 0.1021 - acc: 0.9567 - val_loss: 0.1367 - val_acc: 0.9445\n",
      "Epoch 24/50\n",
      " - 79s - loss: 0.0998 - acc: 0.9589 - val_loss: 0.1540 - val_acc: 0.9395\n",
      "\n",
      "Epoch 00024: ReduceLROnPlateau reducing learning rate to 0.0002500000118743628.\n",
      "Epoch 25/50\n",
      " - 80s - loss: 0.0925 - acc: 0.9609 - val_loss: 0.1368 - val_acc: 0.9465\n",
      "Epoch 26/50\n",
      " - 79s - loss: 0.0890 - acc: 0.9637 - val_loss: 0.1376 - val_acc: 0.9455\n",
      "Epoch 27/50\n",
      " - 79s - loss: 0.0857 - acc: 0.9645 - val_loss: 0.1352 - val_acc: 0.9440\n",
      "\n",
      "Epoch 00027: ReduceLROnPlateau reducing learning rate to 0.0001250000059371814.\n",
      "Epoch 28/50\n",
      " - 79s - loss: 0.0822 - acc: 0.9658 - val_loss: 0.1354 - val_acc: 0.9455\n",
      "Epoch 29/50\n",
      " - 79s - loss: 0.0766 - acc: 0.9685 - val_loss: 0.1394 - val_acc: 0.9450\n",
      "Epoch 30/50\n",
      " - 79s - loss: 0.0755 - acc: 0.9690 - val_loss: 0.1402 - val_acc: 0.9455\n",
      "\n",
      "Epoch 00030: ReduceLROnPlateau reducing learning rate to 6.25000029685907e-05.\n",
      "Epoch 31/50\n",
      " - 79s - loss: 0.0751 - acc: 0.9692 - val_loss: 0.1390 - val_acc: 0.9445\n",
      "Epoch 32/50\n",
      " - 79s - loss: 0.0719 - acc: 0.9709 - val_loss: 0.1397 - val_acc: 0.9455\n",
      "Epoch 33/50\n",
      " - 78s - loss: 0.0739 - acc: 0.9698 - val_loss: 0.1406 - val_acc: 0.9420\n",
      "\n",
      "Epoch 00033: ReduceLROnPlateau reducing learning rate to 3.125000148429535e-05.\n",
      "Epoch 34/50\n",
      " - 86s - loss: 0.0723 - acc: 0.9699 - val_loss: 0.1382 - val_acc: 0.9455\n",
      "Epoch 35/50\n",
      " - 88s - loss: 0.0699 - acc: 0.9723 - val_loss: 0.1387 - val_acc: 0.9440\n",
      "Epoch 36/50\n",
      " - 83s - loss: 0.0713 - acc: 0.9711 - val_loss: 0.1392 - val_acc: 0.9435\n",
      "\n",
      "Epoch 00036: ReduceLROnPlateau reducing learning rate to 1.5625000742147677e-05.\n",
      "Epoch 37/50\n",
      " - 91s - loss: 0.0714 - acc: 0.9705 - val_loss: 0.1382 - val_acc: 0.9450\n",
      "Epoch 38/50\n",
      " - 88s - loss: 0.0687 - acc: 0.9713 - val_loss: 0.1392 - val_acc: 0.9455\n",
      "Epoch 39/50\n",
      " - 89s - loss: 0.0695 - acc: 0.9729 - val_loss: 0.1384 - val_acc: 0.9470\n",
      "Epoch 40/50\n",
      " - 87s - loss: 0.0711 - acc: 0.9699 - val_loss: 0.1391 - val_acc: 0.9445\n",
      "Epoch 41/50\n",
      " - 89s - loss: 0.0706 - acc: 0.9718 - val_loss: 0.1395 - val_acc: 0.9450\n",
      "Epoch 42/50\n",
      " - 89s - loss: 0.0702 - acc: 0.9713 - val_loss: 0.1386 - val_acc: 0.9455\n",
      "\n",
      "Epoch 00042: ReduceLROnPlateau reducing learning rate to 1e-05.\n",
      "Epoch 43/50\n",
      " - 88s - loss: 0.0684 - acc: 0.9726 - val_loss: 0.1383 - val_acc: 0.9440\n",
      "Epoch 44/50\n",
      " - 87s - loss: 0.0700 - acc: 0.9704 - val_loss: 0.1385 - val_acc: 0.9445\n",
      "Epoch 45/50\n",
      " - 88s - loss: 0.0678 - acc: 0.9711 - val_loss: 0.1388 - val_acc: 0.9450\n",
      "Epoch 46/50\n",
      " - 87s - loss: 0.0714 - acc: 0.9714 - val_loss: 0.1388 - val_acc: 0.9440\n",
      "Epoch 47/50\n",
      " - 88s - loss: 0.0681 - acc: 0.9742 - val_loss: 0.1391 - val_acc: 0.9450\n",
      "Epoch 48/50\n",
      " - 87s - loss: 0.0694 - acc: 0.9707 - val_loss: 0.1390 - val_acc: 0.9445\n",
      "Epoch 49/50\n",
      " - 88s - loss: 0.0670 - acc: 0.9722 - val_loss: 0.1391 - val_acc: 0.9440\n",
      "Epoch 50/50\n",
      " - 89s - loss: 0.0676 - acc: 0.9728 - val_loss: 0.1394 - val_acc: 0.9445\n"
     ]
    }
   ],
   "source": [
    "epochs = 50\n",
    "batch_size=64\n",
    "history = cnn_model.fit(X_train,\n",
    "                        y_train,\n",
    "                        batch_size = batch_size,\n",
    "                        epochs = epochs,\n",
    "                        verbose = 2,\n",
    "                        validation_data = (X_val, y_val), callbacks=[learning_rate_reduction])"
   ]
  },
  {
   "cell_type": "code",
   "execution_count": null,
   "metadata": {},
   "outputs": [],
   "source": []
  }
 ],
 "metadata": {
  "kernelspec": {
   "display_name": "Python 3",
   "language": "python",
   "name": "python3"
  },
  "language_info": {
   "codemirror_mode": {
    "name": "ipython",
    "version": 3
   },
   "file_extension": ".py",
   "mimetype": "text/x-python",
   "name": "python",
   "nbconvert_exporter": "python",
   "pygments_lexer": "ipython3",
   "version": "3.7.3"
  }
 },
 "nbformat": 4,
 "nbformat_minor": 2
}
